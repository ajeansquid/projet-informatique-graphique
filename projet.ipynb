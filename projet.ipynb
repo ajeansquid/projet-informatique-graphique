{
 "cells": [
  {
   "cell_type": "code",
   "execution_count": 15,
   "metadata": {},
   "outputs": [],
   "source": [
    "import cv2\n",
    "import numpy as np\n",
    "import matplotlib.pyplot as plt\n"
   ]
  },
  {
   "cell_type": "code",
   "execution_count": 16,
   "metadata": {},
   "outputs": [
    {
     "data": {
      "text/plain": [
       "-1"
      ]
     },
     "execution_count": 16,
     "metadata": {},
     "output_type": "execute_result"
    }
   ],
   "source": [
    "logopeugeot = cv2.imread(\"C:\\\\Users\\\\Ajeansquid\\\\Documents\\\\projet 2023 2024\\\\logo_peugeot.png\")\n",
    "\n",
    "img_voiture = cv2.imread(\"C:\\\\Users\\\\Ajeansquid\\\\Documents\\\\projet 2023 2024\\\\Peugeot 206.jpg\")\n",
    "\n",
    "cv2.imshow(\"image\",img)\n",
    "cv2.waitKey(0)\n"
   ]
  },
  {
   "cell_type": "code",
   "execution_count": 22,
   "metadata": {},
   "outputs": [],
   "source": [
    "def niv_gris(image):\n",
    "    imgNG = cv2.cvtColor(image, cv2.COLOR_BGR2GRAY)\n",
    "    return imgNG\n",
    "\n",
    "\n",
    "def ORB(img):\n",
    "    orb = cv2.ORB_create() # création de l’objet de la classe ORB\n",
    "    #Extraction des points et des descripteurs\n",
    "    img_gris = niv_gris(img)\n",
    "    points, descripteursImg = orb.detectAndCompute(img_gris, None)\n",
    "    return points, descripteursImg\n",
    "\n",
    "def SIFT(img):\n",
    "    sift = cv2.SIFT_create()\n",
    "    img_gris = niv_gris(img)\n",
    "    points, descripteursImg = sift.detectAndCompute(img_gris, None)\n",
    "    return points, descripteursImg\n",
    "\n",
    "def compa_force_brute(img1, img2):\n",
    "    algoBF = cv2.BFMatcher(cv2.NORM_L2, crossCheck=False)\n",
    "    points1, descripteurs_img1 = SIFT(img1)\n",
    "    points2, descripteurs_img2 = SIFT(img2)\n",
    "    paires_corresp = algoBF.knnMatch(descripteurs_img1, descripteurs_img2, k=2)\n",
    "    \n",
    "         # Redimensionner l'image 2 pour qu'elle soit plus petite\n",
    "    ratio = 1 # Vous pouvez ajuster le ratio selon vos besoins\n",
    "    img2_resized = cv2.resize(img2, None, fx=ratio, fy=ratio)\n",
    "\n",
    "    # Redimensionner également les points de l'image 2\n",
    "    points2_resized = [cv2.KeyPoint(pt.pt[0] * ratio, pt.pt[1] * ratio, pt.size) for pt in points2]\n",
    "    \n",
    "    \n",
    "    # Filtrer les correspondances en utilisant le ratio de Lowe\n",
    "    bonnes_correspondances = []\n",
    "    ratio_lowe = 0.75\n",
    "    for m, n in paires_corresp:\n",
    "        if m.distance < ratio_lowe * n.distance:\n",
    "            bonnes_correspondances.append(m)\n",
    "    \n",
    "\n",
    "    # Dessiner les correspondances\n",
    "    img_matches = cv2.drawMatches(img1, points1, img2_resized, points2_resized, bonnes_correspondances, None, flags=cv2.DrawMatchesFlags_NOT_DRAW_SINGLE_POINTS)\n",
    "\n",
    "    return img_matches\n",
    "\n",
    "\n",
    "def image_points(img):\n",
    "    points, _ = ORB(img)\n",
    "    img_with_points = img.copy()\n",
    "    cv2.drawKeypoints(img, points, img_with_points,color=(0, 0, 255))\n",
    "    return img_with_points"
   ]
  },
  {
   "cell_type": "code",
   "execution_count": 2,
   "metadata": {},
   "outputs": [
    {
     "ename": "NameError",
     "evalue": "name 'compa_force_brute' is not defined",
     "output_type": "error",
     "traceback": [
      "\u001b[1;31m---------------------------------------------------------------------------\u001b[0m",
      "\u001b[1;31mNameError\u001b[0m                                 Traceback (most recent call last)",
      "Cell \u001b[1;32mIn[2], line 1\u001b[0m\n\u001b[1;32m----> 1\u001b[0m cv2\u001b[38;5;241m.\u001b[39mimshow(\u001b[38;5;124m\"\u001b[39m\u001b[38;5;124mimage\u001b[39m\u001b[38;5;124m\"\u001b[39m,\u001b[43mcompa_force_brute\u001b[49m(img1,img2))\n\u001b[0;32m      2\u001b[0m cv2\u001b[38;5;241m.\u001b[39mwaitKey(\u001b[38;5;241m0\u001b[39m)\u001b[38;5;66;03m# Attendre l'appui d'une touche pour quitter\u001b[39;00m\n",
      "\u001b[1;31mNameError\u001b[0m: name 'compa_force_brute' is not defined"
     ]
    }
   ],
   "source": [
    "cv2.imshow(\"image\",compa_force_brute(img_logo_peugeot,img_voiture))\n",
    "cv2.waitKey(0)# Attendre l'appui d'une touche pour quitter \n"
   ]
  }
 ],
 "metadata": {
  "kernelspec": {
   "display_name": "Python 3",
   "language": "python",
   "name": "python3"
  },
  "language_info": {
   "codemirror_mode": {
    "name": "ipython",
    "version": 3
   },
   "file_extension": ".py",
   "mimetype": "text/x-python",
   "name": "python",
   "nbconvert_exporter": "python",
   "pygments_lexer": "ipython3",
   "version": "3.12.1"
  }
 },
 "nbformat": 4,
 "nbformat_minor": 2
}
