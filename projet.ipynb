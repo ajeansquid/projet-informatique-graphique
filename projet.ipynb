{
 "cells": [
  {
   "cell_type": "code",
   "execution_count": 1,
   "metadata": {},
   "outputs": [],
   "source": [
    "import cv2\n",
    "import numpy as np\n",
    "import matplotlib.pyplot as plt"
   ]
  },
  {
   "cell_type": "code",
   "execution_count": 24,
   "metadata": {},
   "outputs": [
    {
     "data": {
      "text/plain": [
       "-1"
      ]
     },
     "execution_count": 24,
     "metadata": {},
     "output_type": "execute_result"
    }
   ],
   "source": [
    "img1 = cv2.imread(\"C:\\\\Users\\\\lknoe\\\\OneDrive\\\\Documents\\\\algo prog 2024\\\\Python\\\\logo_peugeot2.png\")\n",
    "img2 = cv2.imread(\"C:\\\\Users\\\\lknoe\\\\OneDrive\\\\Documents\\\\algo prog 2024\\\\Python\\\\voiture6.jpg\")\n",
    "\n",
    "cv2.imshow(\"image\",img2)\n",
    "cv2.waitKey(0)"
   ]
  },
  {
   "cell_type": "code",
   "execution_count": 22,
   "metadata": {},
   "outputs": [],
   "source": [
    "def niv_gris(image):\n",
    "    imgNG = cv2.cvtColor(image, cv2.COLOR_BGR2GRAY)\n",
    "    return imgNG\n",
    "\n",
    "def ORB(img):\n",
    "    orb = cv2.ORB_create() # création de l’objet de la classe ORB\n",
    "    #Extraction des points et des descripteurs\n",
    "    img_gris = niv_gris(img)\n",
    "    points, descripteursImg = orb.detectAndCompute(img_gris, None)\n",
    "    return points, descripteursImg\n",
    "\n",
    "def SIFT(img):\n",
    "    sift = cv2.SIFT_create()\n",
    "    img_gris = niv_gris(img)\n",
    "    points, descripteursImg = sift.detectAndCompute(img_gris, None)\n",
    "    return points, descripteursImg\n",
    "\n",
    "def compa_force_brute(img1, img2):\n",
    "    algoBF = cv2.BFMatcher(cv2.NORM_L2, crossCheck=False)\n",
    "    points1, descripteurs_img1 = SIFT(img1)\n",
    "    points2, descripteurs_img2 = SIFT(img2)\n",
    "    paires_corresp = algoBF.knnMatch(descripteurs_img1, descripteurs_img2, k=2)\n",
    "    \n",
    "         # Redimensionner l'image 2 pour qu'elle soit plus petite\n",
    "    ratio = 1 # Vous pouvez ajuster le ratio selon vos besoins\n",
    "    img2_resized = cv2.resize(img2, None, fx=ratio, fy=ratio)\n",
    "\n",
    "    # Redimensionner également les points de l'image 2\n",
    "    points2_resized = [cv2.KeyPoint(pt.pt[0] * ratio, pt.pt[1] * ratio, pt.size) for pt in points2]\n",
    "    \n",
    "    \n",
    "    # Filtrer les correspondances en utilisant le ratio de Lowe\n",
    "    bonnes_correspondances = []\n",
    "    ratio_lowe = 0.75\n",
    "    for m, n in paires_corresp:\n",
    "        if m.distance < ratio_lowe * n.distance:\n",
    "            bonnes_correspondances.append(m)\n",
    "\n",
    "    # Dessiner les correspondances\n",
    "    img_matches = cv2.drawMatches(img1, points1, img2_resized, points2_resized, bonnes_correspondances, None, flags=cv2.DrawMatchesFlags_NOT_DRAW_SINGLE_POINTS)\n",
    "\n",
    "    return img_matches\n",
    "\n",
    "\n",
    "def image_points(img):\n",
    "    points, _ = ORB(img)\n",
    "    img_with_points = img.copy()\n",
    "    cv2.drawKeypoints(img, points, img_with_points,color=(0, 0, 255))\n",
    "    return img_with_points"
   ]
  },
  {
   "cell_type": "code",
   "execution_count": 25,
   "metadata": {},
   "outputs": [
    {
     "data": {
      "text/plain": [
       "-1"
      ]
     },
     "execution_count": 25,
     "metadata": {},
     "output_type": "execute_result"
    }
   ],
   "source": [
    "cv2.imshow(\"image\",compa_force_brute(img1,img2))\n",
    "cv2.waitKey(0)"
   ]
  }
 ],
 "metadata": {
  "kernelspec": {
   "display_name": "Python 3",
   "language": "python",
   "name": "python3"
  },
  "language_info": {
   "codemirror_mode": {
    "name": "ipython",
    "version": 3
   },
   "file_extension": ".py",
   "mimetype": "text/x-python",
   "name": "python",
   "nbconvert_exporter": "python",
   "pygments_lexer": "ipython3",
   "version": "3.11.7"
  }
 },
 "nbformat": 4,
 "nbformat_minor": 2
}
